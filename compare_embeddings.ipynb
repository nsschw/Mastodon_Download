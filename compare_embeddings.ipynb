{
 "cells": [
  {
   "cell_type": "code",
   "execution_count": 193,
   "metadata": {},
   "outputs": [],
   "source": [
    "import pandas as pd\n",
    "import numpy as np\n",
    "import json\n",
    "import pickle\n",
    "from bs4 import BeautifulSoup\n",
    "from collections import defaultdict\n",
    "from plotly import graph_objs as go\n",
    "from sklearn.manifold import TSNE\n",
    "import umap"
   ]
  },
  {
   "cell_type": "code",
   "execution_count": 194,
   "metadata": {},
   "outputs": [],
   "source": [
    "#load data\n",
    "troet_cafe = pd.read_pickle('Data/troet.pickle')\n",
    "sueden_social = pd.read_pickle('Data/sueden.pickle')\n",
    "nrw_social = pd.read_pickle('Data/nrw.pickle')"
   ]
  },
  {
   "cell_type": "code",
   "execution_count": 195,
   "metadata": {},
   "outputs": [],
   "source": [
    "#add unique user id to every toot\n",
    "troet_cafe[\"unique_user_id\"] = troet_cafe[\"account\"].apply(lambda x: x[\"acct\"])\n",
    "sueden_social[\"unique_user_id\"] = sueden_social[\"account\"].apply(lambda x: x[\"acct\"])\n",
    "nrw_social[\"unique_user_id\"] = nrw_social[\"account\"].apply(lambda x: x[\"acct\"])"
   ]
  },
  {
   "attachments": {},
   "cell_type": "markdown",
   "metadata": {},
   "source": [
    "### prepare embedding comparison"
   ]
  },
  {
   "cell_type": "code",
   "execution_count": 166,
   "metadata": {},
   "outputs": [],
   "source": [
    "#Filter users with less than 10 toots\n",
    "troet_cafe = troet_cafe.query(\"no_toots > 10\").reset_index(drop=True)\n",
    "sueden_social = sueden_social.query(\"no_toots > 10\").reset_index(drop=True)\n",
    "nrw_social = nrw_social.query(\"no_toots > 10\").reset_index(drop=True)\n",
    "\n",
    "#concatenate all dataframes and drop duplicates\n",
    "df_all = pd.concat([troet_cafe, sueden_social, nrw_social])\n",
    "df_all = df_all.drop_duplicates(subset=['url']).reset_index(drop=True)"
   ]
  },
  {
   "cell_type": "code",
   "execution_count": 167,
   "metadata": {},
   "outputs": [],
   "source": [
    "#create dictionary with user id as key and list of embeddings as value\n",
    "dict_user_emb = defaultdict(list)\n",
    "for i in range(len(df_all)):\n",
    "    dict_user_emb[df_all['unique_user_id'].iloc[i]].append(df_all['embedding'].iloc[i])\n",
    "\n",
    "#calculate mean of embeddings for each user\n",
    "dict_user_emb = {k: np.mean(v, axis=0) for k, v in dict_user_emb.items()}"
   ]
  },
  {
   "cell_type": "code",
   "execution_count": 168,
   "metadata": {},
   "outputs": [],
   "source": [
    "#one hot encoding for server\n",
    "list_avg_emb = []\n",
    "list_user_server = []\n",
    "\n",
    "for key, value in dict_user_emb.items():\n",
    "    list_avg_emb.append(value)\n",
    "\n",
    "    one_hot = [0, 0, 0]\n",
    "\n",
    "    if key in troet_cafe['unique_user_id'].unique():\n",
    "        one_hot[0] = 1  \n",
    "\n",
    "    if key in sueden_social['unique_user_id'].unique():\n",
    "        one_hot[1] = 1\n",
    "\n",
    "    if key in nrw_social['unique_user_id'].unique():\n",
    "        one_hot[2] = 1\n",
    "    \n",
    "    list_user_server.append(one_hot)"
   ]
  },
  {
   "attachments": {},
   "cell_type": "markdown",
   "metadata": {},
   "source": [
    "### visualize embeddings using tsne"
   ]
  },
  {
   "cell_type": "code",
   "execution_count": null,
   "metadata": {},
   "outputs": [],
   "source": [
    "#convert list of embeddings to numpy arrays\n",
    "x = list(list_avg_emb)\n",
    "X = np.array(x)\n",
    "\n",
    "#tsne of embeddings\n",
    "tsne = TSNE(n_components=2)\n",
    "tsne_results = tsne.fit_transform(X)\n",
    "\n",
    "#split embeddings into list of embeddings for each server\n",
    "troet_cafe_reduced_emb = []\n",
    "sueden_social_reduced_emb = []\n",
    "nrw_social_reduced_emb = []\n",
    "multiple_server = []\n",
    "\n",
    "for i in range(len(list_user_server)):\n",
    "    if list_user_server[i] == [1, 0, 0]:\n",
    "        troet_cafe_reduced_emb.append(tsne_results[i])    \n",
    "    elif list_user_server[i] == [0, 1, 0]:\n",
    "        sueden_social_reduced_emb.append(tsne_results[i])\n",
    "    elif list_user_server[i] == [0, 0, 1]:\n",
    "        nrw_social_reduced_emb.append(tsne_results[i])\n",
    "    else:\n",
    "        multiple_server.append(tsne_results[i])\n",
    "\n",
    "\n",
    "#plot list of embeddings\n",
    "troet_cafe_reduced_emb = np.array(troet_cafe_reduced_emb)\n",
    "sueden_social_reduced_emb = np.array(sueden_social_reduced_emb)\n",
    "nrw_social_reduced_emb = np.array(nrw_social_reduced_emb)\n",
    "multiple_server = np.array(multiple_server)\n",
    "\n",
    "fig = go.Figure()\n",
    "fig.add_trace(go.Scatter(x=troet_cafe_reduced_emb[:,0], y=troet_cafe_reduced_emb[:,1], mode='markers', name='Troet Cafe'))\n",
    "fig.add_trace(go.Scatter(x=sueden_social_reduced_emb[:,0], y=sueden_social_reduced_emb[:,1], mode='markers', name='Sueden Social'))\n",
    "fig.add_trace(go.Scatter(x=nrw_social_reduced_emb[:,0], y=nrw_social_reduced_emb[:,1], mode='markers', name='NRW Social'))\n",
    "fig.add_trace(go.Scatter(x=multiple_server[:,0], y=multiple_server[:,1], mode='markers', name='Multiple Servers'))\n",
    "\n",
    "\n",
    "fig.update_layout(\n",
    "    title=\"TSNE of User Embeddings\",\n",
    "    xaxis_title=\"TSNE 1\",\n",
    "    yaxis_title=\"TSNE 2\",\n",
    "    font=dict(\n",
    "        family=\"Courier New, monospace\",\n",
    "        size=18,\n",
    "        color=\"#7f7f7f\"\n",
    "    )\n",
    ")\n",
    "\n",
    "fig.show()\n",
    "fig.write_html(\"tsne_user_embeddings.html\")"
   ]
  },
  {
   "attachments": {},
   "cell_type": "markdown",
   "metadata": {},
   "source": [
    "### visualize embeddings using umap"
   ]
  },
  {
   "cell_type": "code",
   "execution_count": null,
   "metadata": {},
   "outputs": [],
   "source": [
    "#umap of embeddings\n",
    "reducer = umap.UMAP()\n",
    "embedding = reducer.fit_transform(X)\n",
    "\n",
    "#split embeddings into list of embeddings for each server\n",
    "troet_cafe_reduced_emb = []\n",
    "sueden_social_reduced_emb = []\n",
    "nrw_social_reduced_emb = []\n",
    "multiple_server = []\n",
    "\n",
    "for i in range(len(list_user_server)):\n",
    "    if list_user_server[i] == [1, 0, 0]:\n",
    "        troet_cafe_reduced_emb.append(embedding[i])    \n",
    "    elif list_user_server[i] == [0, 1, 0]:\n",
    "        sueden_social_reduced_emb.append(embedding[i])\n",
    "    elif list_user_server[i] == [0, 0, 1]:\n",
    "        nrw_social_reduced_emb.append(embedding[i])\n",
    "    else:\n",
    "        multiple_server.append(embedding[i])\n",
    "\n",
    "#plot list of embeddings\n",
    "troet_cafe_reduced_emb = np.array(troet_cafe_reduced_emb)\n",
    "sueden_social_reduced_emb = np.array(sueden_social_reduced_emb)\n",
    "nrw_social_reduced_emb = np.array(nrw_social_reduced_emb)\n",
    "multiple_server = np.array(multiple_server)\n",
    "\n",
    "fig = go.Figure()\n",
    "fig.add_trace(go.Scatter(x=troet_cafe_reduced_emb[:,0], y=troet_cafe_reduced_emb[:,1], mode='markers', name='Troet Cafe'))\n",
    "fig.add_trace(go.Scatter(x=sueden_social_reduced_emb[:,0], y=sueden_social_reduced_emb[:,1], mode='markers', name='Sueden Social'))\n",
    "fig.add_trace(go.Scatter(x=nrw_social_reduced_emb[:,0], y=nrw_social_reduced_emb[:,1], mode='markers', name='NRW Social'))\n",
    "fig.add_trace(go.Scatter(x=multiple_server[:,0], y=multiple_server[:,1], mode='markers', name='Multiple Servers'))\n",
    "\n",
    "\n",
    "fig.update_layout(\n",
    "    title=\"UMAP of User Embeddings\",\n",
    "    xaxis_title=\"UMAP 1\",\n",
    "    yaxis_title=\"UMAP 2\",\n",
    "    font=dict(\n",
    "        family=\"Courier New, monospace\",\n",
    "        size=18,\n",
    "        color=\"#7f7f7f\"\n",
    "    )\n",
    ")\n",
    "\n",
    "fig.show()\n",
    "fig.write_html(\"umap_user_embeddings.html\")"
   ]
  }
 ],
 "metadata": {
  "kernelspec": {
   "display_name": "Python 3",
   "language": "python",
   "name": "python3"
  },
  "language_info": {
   "codemirror_mode": {
    "name": "ipython",
    "version": 3
   },
   "file_extension": ".py",
   "mimetype": "text/x-python",
   "name": "python",
   "nbconvert_exporter": "python",
   "pygments_lexer": "ipython3",
   "version": "3.10.11"
  },
  "orig_nbformat": 4
 },
 "nbformat": 4,
 "nbformat_minor": 2
}
