{
  "cells": [
    {
      "attachments": {},
      "cell_type": "markdown",
      "metadata": {},
      "source": [
        "**to be excetued in google colab**"
      ]
    },
    {
      "cell_type": "code",
      "execution_count": null,
      "metadata": {
        "colab": {
          "base_uri": "https://localhost:8080/"
        },
        "id": "eoWmJiBpxCTT",
        "outputId": "634184db-3840-401d-c825-ef2df3fd08ef"
      },
      "outputs": [
        {
          "name": "stdout",
          "output_type": "stream",
          "text": [
            "Looking in indexes: https://pypi.org/simple, https://us-python.pkg.dev/colab-wheels/public/simple/\n",
            "Requirement already satisfied: pandas in /usr/local/lib/python3.9/dist-packages (2.0.0)\n",
            "Requirement already satisfied: tzdata>=2022.1 in /usr/local/lib/python3.9/dist-packages (from pandas) (2023.3)\n",
            "Requirement already satisfied: python-dateutil>=2.8.2 in /usr/local/lib/python3.9/dist-packages (from pandas) (2.8.2)\n",
            "Requirement already satisfied: pytz>=2020.1 in /usr/local/lib/python3.9/dist-packages (from pandas) (2022.7.1)\n",
            "Requirement already satisfied: numpy>=1.20.3 in /usr/local/lib/python3.9/dist-packages (from pandas) (1.22.4)\n",
            "Requirement already satisfied: six>=1.5 in /usr/local/lib/python3.9/dist-packages (from python-dateutil>=2.8.2->pandas) (1.16.0)\n",
            "Looking in indexes: https://pypi.org/simple, https://us-python.pkg.dev/colab-wheels/public/simple/\n",
            "Requirement already satisfied: transformers in /usr/local/lib/python3.9/dist-packages (4.28.1)\n",
            "Requirement already satisfied: tqdm>=4.27 in /usr/local/lib/python3.9/dist-packages (from transformers) (4.65.0)\n",
            "Requirement already satisfied: numpy>=1.17 in /usr/local/lib/python3.9/dist-packages (from transformers) (1.22.4)\n",
            "Requirement already satisfied: pyyaml>=5.1 in /usr/local/lib/python3.9/dist-packages (from transformers) (6.0)\n",
            "Requirement already satisfied: tokenizers!=0.11.3,<0.14,>=0.11.1 in /usr/local/lib/python3.9/dist-packages (from transformers) (0.13.3)\n",
            "Requirement already satisfied: packaging>=20.0 in /usr/local/lib/python3.9/dist-packages (from transformers) (23.0)\n",
            "Requirement already satisfied: requests in /usr/local/lib/python3.9/dist-packages (from transformers) (2.27.1)\n",
            "Requirement already satisfied: huggingface-hub<1.0,>=0.11.0 in /usr/local/lib/python3.9/dist-packages (from transformers) (0.13.4)\n",
            "Requirement already satisfied: filelock in /usr/local/lib/python3.9/dist-packages (from transformers) (3.11.0)\n",
            "Requirement already satisfied: regex!=2019.12.17 in /usr/local/lib/python3.9/dist-packages (from transformers) (2022.10.31)\n",
            "Requirement already satisfied: typing-extensions>=3.7.4.3 in /usr/local/lib/python3.9/dist-packages (from huggingface-hub<1.0,>=0.11.0->transformers) (4.5.0)\n",
            "Requirement already satisfied: certifi>=2017.4.17 in /usr/local/lib/python3.9/dist-packages (from requests->transformers) (2022.12.7)\n",
            "Requirement already satisfied: idna<4,>=2.5 in /usr/local/lib/python3.9/dist-packages (from requests->transformers) (3.4)\n",
            "Requirement already satisfied: urllib3<1.27,>=1.21.1 in /usr/local/lib/python3.9/dist-packages (from requests->transformers) (1.26.15)\n",
            "Requirement already satisfied: charset-normalizer~=2.0.0 in /usr/local/lib/python3.9/dist-packages (from requests->transformers) (2.0.12)\n"
          ]
        }
      ],
      "source": [
        "!pip install --upgrade pandas\n",
        "!pip install transformers"
      ]
    },
    {
      "cell_type": "code",
      "execution_count": null,
      "metadata": {
        "colab": {
          "base_uri": "https://localhost:8080/"
        },
        "id": "XHVia6XGwBfW",
        "outputId": "d8be9748-ca33-474a-f6b6-5a053628432d"
      },
      "outputs": [
        {
          "name": "stdout",
          "output_type": "stream",
          "text": [
            "Drive already mounted at /content/drive; to attempt to forcibly remount, call drive.mount(\"/content/drive\", force_remount=True).\n"
          ]
        }
      ],
      "source": [
        "from google.colab import drive\n",
        "\n",
        "drive.mount(\"/content/drive\")\n",
        "\n",
        "path = \"INSERT GDRIVE PATH HERE\""
      ]
    },
    {
      "cell_type": "code",
      "execution_count": null,
      "metadata": {
        "id": "w9TK-uqymARo"
      },
      "outputs": [],
      "source": [
        "import pandas as pd\n",
        "import numpy as np\n",
        "import json\n",
        "from bs4 import BeautifulSoup\n",
        "from collections import defaultdict"
      ]
    },
    {
      "cell_type": "code",
      "execution_count": null,
      "metadata": {
        "colab": {
          "base_uri": "https://localhost:8080/"
        },
        "id": "ulmInxh1qXqh",
        "outputId": "60e9773b-efc6-4868-d46a-c0505392ba26"
      },
      "outputs": [
        {
          "name": "stderr",
          "output_type": "stream",
          "text": [
            "Some weights of the model checkpoint at bert-base-german-cased were not used when initializing BertModel: ['cls.predictions.transform.LayerNorm.bias', 'cls.predictions.transform.dense.bias', 'cls.predictions.decoder.weight', 'cls.predictions.transform.dense.weight', 'cls.predictions.transform.LayerNorm.weight', 'cls.seq_relationship.bias', 'cls.seq_relationship.weight', 'cls.predictions.bias']\n",
            "- This IS expected if you are initializing BertModel from the checkpoint of a model trained on another task or with another architecture (e.g. initializing a BertForSequenceClassification model from a BertForPreTraining model).\n",
            "- This IS NOT expected if you are initializing BertModel from the checkpoint of a model that you expect to be exactly identical (initializing a BertForSequenceClassification model from a BertForSequenceClassification model).\n"
          ]
        }
      ],
      "source": [
        "import torch\n",
        "from transformers import BertModel, BertTokenizer\n",
        "\n",
        "# Load pre-trained BERT model\n",
        "model = BertModel.from_pretrained(\"bert-base-german-cased\")\n",
        "tokenizer = BertTokenizer.from_pretrained(\"bert-base-german-cased\")\n",
        "\n",
        "# Define a function to generate sentence embeddings\n",
        "def get_sentence_embeddings(sentence):\n",
        "    #torch.cpu.empty_cache()\n",
        "    input_ids = torch.tensor([tokenizer.encode(sentence, max_length=512, truncation=True)])\n",
        "    if torch.cuda.is_available():\n",
        "        input_ids = input_ids.to('cuda')\n",
        "        model.to('cuda')\n",
        "    with torch.no_grad():\n",
        "        last_hidden_states = model(input_ids)[0]\n",
        "    last_hidden_states = last_hidden_states.cpu().numpy()\n",
        "    return last_hidden_states[0][0]"
      ]
    },
    {
      "cell_type": "code",
      "execution_count": null,
      "metadata": {
        "id": "HCvAChbVWylH"
      },
      "outputs": [],
      "source": [
        "nrw_social = [json.loads(line) for line in open(f\"{path}fediverse-nrw.social-toots.log\", \"r\", encoding=\"utf-8\")]\n",
        "sueden_social = [json.loads(line) for line in open(f\"{path}fediverse-sueden.social-toots.log\", \"r\", encoding=\"utf-8\")]\n",
        "troet_cafe = [json.loads(line) for line in open(f\"{path}fediverse-troet.cafe-toots.log\", \"r\", encoding=\"utf-8\")]"
      ]
    },
    {
      "cell_type": "code",
      "execution_count": null,
      "metadata": {
        "id": "AUxgPol3Xa4O"
      },
      "outputs": [],
      "source": [
        "troet_cafe = pd.DataFrame(troet_cafe)\n",
        "sueden_social = pd.DataFrame(sueden_social)\n",
        "nrw_social = pd.DataFrame(nrw_social)"
      ]
    },
    {
      "cell_type": "code",
      "execution_count": null,
      "metadata": {
        "id": "WGAIoiMiLKJm"
      },
      "outputs": [],
      "source": [
        "#delete accounts with less than k toots\n",
        "\n",
        "user_no_tweets = defaultdict(int)\n",
        "for x in range(len(troet_cafe)):\n",
        "  user = troet_cafe.at[x, \"account\"]\n",
        "  troet_cafe.at[x, \"user_id\"] = str(user[\"id\"])\n",
        "  user_no_tweets[str(user[\"id\"])] += 1\n",
        "troet_cafe[\"no_toots\"] = troet_cafe[\"user_id\"].apply(lambda x: user_no_tweets.get(x))\n",
        "\n",
        "user_no_tweets = defaultdict(int)\n",
        "for x in range(len(sueden_social)):\n",
        "  user = sueden_social.at[x, \"account\"]\n",
        "  sueden_social.at[x, \"user_id\"] = str(user[\"id\"])\n",
        "  user_no_tweets[str(user[\"id\"])] += 1\n",
        "sueden_social[\"no_toots\"] = sueden_social[\"user_id\"].apply(lambda x: user_no_tweets.get(x))\n",
        "\n",
        "user_no_tweets = defaultdict(int)\n",
        "for x in range(len(nrw_social)):\n",
        "  user = nrw_social.at[x, \"account\"]\n",
        "  nrw_social.at[x, \"user_id\"] = str(user[\"id\"])\n",
        "  user_no_tweets[str(user[\"id\"])] += 1\n",
        "nrw_social[\"no_toots\"] = nrw_social[\"user_id\"].apply(lambda x: user_no_tweets.get(x))\n",
        "\n",
        "\n",
        "troet_cafe = troet_cafe.query(\"no_toots > 4\").reset_index()\n",
        "sueden_social = sueden_social.query(\"no_toots > 4\").reset_index()\n",
        "nrw_social = nrw_social.query(\"no_toots > 4\").reset_index()"
      ]
    },
    {
      "cell_type": "code",
      "execution_count": null,
      "metadata": {
        "colab": {
          "base_uri": "https://localhost:8080/"
        },
        "id": "KzPhUUm1XfcM",
        "outputId": "fa42c355-0651-4d79-8e44-a81ba89ae7b5"
      },
      "outputs": [
        {
          "name": "stderr",
          "output_type": "stream",
          "text": [
            "<ipython-input-9-42bb84433a97>:2: MarkupResemblesLocatorWarning: The input looks more like a filename than markup. You may want to open this file and pass the filehandle into Beautiful Soup.\n",
            "  troet_cafe[\"text\"] = troet_cafe[\"content\"].apply(lambda x: BeautifulSoup(x, \"html.parser\").get_text())\n",
            "<ipython-input-9-42bb84433a97>:3: MarkupResemblesLocatorWarning: The input looks more like a filename than markup. You may want to open this file and pass the filehandle into Beautiful Soup.\n",
            "  sueden_social[\"text\"] = sueden_social[\"content\"].apply(lambda x: BeautifulSoup(x, \"html.parser\").get_text())\n",
            "<ipython-input-9-42bb84433a97>:4: MarkupResemblesLocatorWarning: The input looks more like a filename than markup. You may want to open this file and pass the filehandle into Beautiful Soup.\n",
            "  nrw_social[\"text\"] = nrw_social[\"content\"].apply(lambda x: BeautifulSoup(x, \"html.parser\").get_text())\n"
          ]
        }
      ],
      "source": [
        "# apply get_text to all toots\n",
        "troet_cafe[\"text\"] = troet_cafe[\"content\"].apply(lambda x: BeautifulSoup(x, \"html.parser\").get_text())\n",
        "sueden_social[\"text\"] = sueden_social[\"content\"].apply(lambda x: BeautifulSoup(x, \"html.parser\").get_text())\n",
        "nrw_social[\"text\"] = nrw_social[\"content\"].apply(lambda x: BeautifulSoup(x, \"html.parser\").get_text())"
      ]
    },
    {
      "cell_type": "code",
      "execution_count": null,
      "metadata": {
        "id": "vRR2QXT6X20d"
      },
      "outputs": [],
      "source": [
        "troet_cafe[\"embedding\"] = troet_cafe[\"text\"].apply(lambda x: get_sentence_embeddings(x))\n",
        "\n",
        "sueden_social[\"embedding\"] = sueden_social[\"text\"].apply(lambda x: get_sentence_embeddings(x))\n",
        "\n",
        "nrw_social[\"embedding\"] = nrw_social[\"text\"].apply(lambda x: get_sentence_embeddings(x))"
      ]
    }
  ],
  "metadata": {
    "accelerator": "GPU",
    "colab": {
      "machine_shape": "hm",
      "provenance": []
    },
    "gpuClass": "premium",
    "kernelspec": {
      "display_name": "Python 3",
      "name": "python3"
    },
    "language_info": {
      "name": "python"
    }
  },
  "nbformat": 4,
  "nbformat_minor": 0
}
